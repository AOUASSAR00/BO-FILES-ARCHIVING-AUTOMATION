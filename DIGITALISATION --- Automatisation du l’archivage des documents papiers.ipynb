{
 "cells": [
  {
   "cell_type": "markdown",
   "id": "133355f5",
   "metadata": {},
   "source": [
    "# AUTOMATIC FILE SORTER IN FILE EXPLORER"
   ]
  },
  {
   "cell_type": "code",
   "execution_count": 1,
   "id": "73247a53",
   "metadata": {},
   "outputs": [],
   "source": [
    "import os, shutil"
   ]
  },
  {
   "cell_type": "code",
   "execution_count": 2,
   "id": "e80e6e7a",
   "metadata": {},
   "outputs": [],
   "source": [
    "path=r'C:/Users/warda/Downloads/ARCHIVE TEST/'"
   ]
  },
  {
   "cell_type": "code",
   "execution_count": 3,
   "id": "e86be958",
   "metadata": {},
   "outputs": [],
   "source": [
    "file_name=os.listdir(path)"
   ]
  },
  {
   "cell_type": "code",
   "execution_count": 4,
   "id": "345b8bfd",
   "metadata": {},
   "outputs": [],
   "source": [
    "folder_names=['csv files','pdf files']\n",
    "for loop in range(0,2):\n",
    "    if not os.path.exists(path+folder_names[loop]):\n",
    "        #print(path+folder_names[loop])\n",
    "        os.makedirs(path+folder_names[loop])\n",
    "\n",
    "for file in file_name:\n",
    "    if \".csv\" in file and not os.path.exists(path+ 'csv files/' + file):\n",
    "        shutil.move(path+file,path+ 'csv files/' + file)\n",
    "    elif \".pdf\" in file and not os.path.exists(path+ 'pdf files/' + file):\n",
    "        shutil.move(path+file,path+ 'pdf files/' + file)\n",
    "   "
   ]
  },
  {
   "cell_type": "code",
   "execution_count": null,
   "id": "06af5325",
   "metadata": {},
   "outputs": [],
   "source": []
  }
 ],
 "metadata": {
  "kernelspec": {
   "display_name": "Python 3 (ipykernel)",
   "language": "python",
   "name": "python3"
  },
  "language_info": {
   "codemirror_mode": {
    "name": "ipython",
    "version": 3
   },
   "file_extension": ".py",
   "mimetype": "text/x-python",
   "name": "python",
   "nbconvert_exporter": "python",
   "pygments_lexer": "ipython3",
   "version": "3.10.9"
  }
 },
 "nbformat": 4,
 "nbformat_minor": 5
}
